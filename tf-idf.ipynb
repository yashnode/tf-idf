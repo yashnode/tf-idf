{
 "cells": [
  {
   "cell_type": "code",
   "execution_count": 2,
   "metadata": {},
   "outputs": [],
   "source": [
    "import pandas as pd\n",
    "import numpy as np"
   ]
  },
  {
   "cell_type": "code",
   "execution_count": 3,
   "metadata": {},
   "outputs": [],
   "source": [
    "dataset = [\t\"Data science a, is the study of data to extract meaningful insights for business. It is a multidisciplinary approach that combines principles and practices from the fields of mathematics, statistics, artificial intelligence, and computer engineering to analyze large amounts of data.\",\n",
    "\t\t\t\"Artificial a, intelligence (AI) is a field of science that involves building machines and computers that can learn, reason, and act in ways that are similar to human intelligence. AI systems use data to learn and improve, and can perform tasks that humans might not be able to do. \",\n",
    "\t\t\t\"A computer is a, machine that can store and process information. Most computers rely on a binary system, which uses two variables, 0 and 1, to complete tasks such as storing data, calculating algorithms, and displaying information.\"\n",
    "]"
   ]
  },
  {
   "cell_type": "code",
   "execution_count": 4,
   "metadata": {},
   "outputs": [
    {
     "data": {
      "text/plain": [
       "3"
      ]
     },
     "execution_count": 4,
     "metadata": {},
     "output_type": "execute_result"
    }
   ],
   "source": [
    "len(dataset)"
   ]
  },
  {
   "cell_type": "code",
   "execution_count": 5,
   "metadata": {},
   "outputs": [
    {
     "data": {
      "text/plain": [
       "91"
      ]
     },
     "execution_count": 5,
     "metadata": {},
     "output_type": "execute_result"
    }
   ],
   "source": [
    "words_set = set()\n",
    "for document in dataset:\n",
    "\twords = document.split(\" \")\n",
    "\twords_set = words_set.union(set(words))\n",
    "len(words_set)"
   ]
  },
  {
   "cell_type": "code",
   "execution_count": 6,
   "metadata": {},
   "outputs": [
    {
     "data": {
      "text/plain": [
       "{'',\n",
       " '(AI)',\n",
       " '0',\n",
       " '1,',\n",
       " 'A',\n",
       " 'AI',\n",
       " 'Artificial',\n",
       " 'Data',\n",
       " 'It',\n",
       " 'Most',\n",
       " 'a',\n",
       " 'a,',\n",
       " 'able',\n",
       " 'act',\n",
       " 'algorithms,',\n",
       " 'amounts',\n",
       " 'analyze',\n",
       " 'and',\n",
       " 'approach',\n",
       " 'are',\n",
       " 'artificial',\n",
       " 'as',\n",
       " 'be',\n",
       " 'binary',\n",
       " 'building',\n",
       " 'business.',\n",
       " 'calculating',\n",
       " 'can',\n",
       " 'combines',\n",
       " 'complete',\n",
       " 'computer',\n",
       " 'computers',\n",
       " 'data',\n",
       " 'data,',\n",
       " 'data.',\n",
       " 'displaying',\n",
       " 'do.',\n",
       " 'engineering',\n",
       " 'extract',\n",
       " 'field',\n",
       " 'fields',\n",
       " 'for',\n",
       " 'from',\n",
       " 'human',\n",
       " 'humans',\n",
       " 'improve,',\n",
       " 'in',\n",
       " 'information.',\n",
       " 'insights',\n",
       " 'intelligence',\n",
       " 'intelligence,',\n",
       " 'intelligence.',\n",
       " 'involves',\n",
       " 'is',\n",
       " 'large',\n",
       " 'learn',\n",
       " 'learn,',\n",
       " 'machine',\n",
       " 'machines',\n",
       " 'mathematics,',\n",
       " 'meaningful',\n",
       " 'might',\n",
       " 'multidisciplinary',\n",
       " 'not',\n",
       " 'of',\n",
       " 'on',\n",
       " 'perform',\n",
       " 'practices',\n",
       " 'principles',\n",
       " 'process',\n",
       " 'reason,',\n",
       " 'rely',\n",
       " 'science',\n",
       " 'similar',\n",
       " 'statistics,',\n",
       " 'store',\n",
       " 'storing',\n",
       " 'study',\n",
       " 'such',\n",
       " 'system,',\n",
       " 'systems',\n",
       " 'tasks',\n",
       " 'that',\n",
       " 'the',\n",
       " 'to',\n",
       " 'two',\n",
       " 'use',\n",
       " 'uses',\n",
       " 'variables,',\n",
       " 'ways',\n",
       " 'which'}"
      ]
     },
     "execution_count": 6,
     "metadata": {},
     "output_type": "execute_result"
    }
   ],
   "source": [
    "words_set"
   ]
  },
  {
   "cell_type": "code",
   "execution_count": 7,
   "metadata": {},
   "outputs": [
    {
     "data": {
      "text/plain": [
       "set"
      ]
     },
     "execution_count": 7,
     "metadata": {},
     "output_type": "execute_result"
    }
   ],
   "source": [
    "type(words_set)"
   ]
  },
  {
   "cell_type": "code",
   "execution_count": 8,
   "metadata": {},
   "outputs": [
    {
     "data": {
      "text/plain": [
       "91"
      ]
     },
     "execution_count": 8,
     "metadata": {},
     "output_type": "execute_result"
    }
   ],
   "source": [
    "len(words_set)"
   ]
  },
  {
   "cell_type": "code",
   "execution_count": 9,
   "metadata": {},
   "outputs": [],
   "source": [
    "filered_words = []"
   ]
  },
  {
   "cell_type": "code",
   "execution_count": 10,
   "metadata": {},
   "outputs": [],
   "source": [
    "for word in words_set:\n",
    "\tif len(word) >= 2:\n",
    "\t\tfilered_words.append(word.lower())"
   ]
  },
  {
   "cell_type": "code",
   "execution_count": 11,
   "metadata": {},
   "outputs": [],
   "source": [
    "lower_words = set(filered_words)"
   ]
  },
  {
   "cell_type": "code",
   "execution_count": 12,
   "metadata": {},
   "outputs": [
    {
     "data": {
      "text/plain": [
       "85"
      ]
     },
     "execution_count": 12,
     "metadata": {},
     "output_type": "execute_result"
    }
   ],
   "source": [
    "len(lower_words)"
   ]
  },
  {
   "cell_type": "code",
   "execution_count": 13,
   "metadata": {},
   "outputs": [
    {
     "data": {
      "text/plain": [
       "{'(ai)',\n",
       " '1,',\n",
       " 'a,',\n",
       " 'able',\n",
       " 'act',\n",
       " 'ai',\n",
       " 'algorithms,',\n",
       " 'amounts',\n",
       " 'analyze',\n",
       " 'and',\n",
       " 'approach',\n",
       " 'are',\n",
       " 'artificial',\n",
       " 'as',\n",
       " 'be',\n",
       " 'binary',\n",
       " 'building',\n",
       " 'business.',\n",
       " 'calculating',\n",
       " 'can',\n",
       " 'combines',\n",
       " 'complete',\n",
       " 'computer',\n",
       " 'computers',\n",
       " 'data',\n",
       " 'data,',\n",
       " 'data.',\n",
       " 'displaying',\n",
       " 'do.',\n",
       " 'engineering',\n",
       " 'extract',\n",
       " 'field',\n",
       " 'fields',\n",
       " 'for',\n",
       " 'from',\n",
       " 'human',\n",
       " 'humans',\n",
       " 'improve,',\n",
       " 'in',\n",
       " 'information.',\n",
       " 'insights',\n",
       " 'intelligence',\n",
       " 'intelligence,',\n",
       " 'intelligence.',\n",
       " 'involves',\n",
       " 'is',\n",
       " 'it',\n",
       " 'large',\n",
       " 'learn',\n",
       " 'learn,',\n",
       " 'machine',\n",
       " 'machines',\n",
       " 'mathematics,',\n",
       " 'meaningful',\n",
       " 'might',\n",
       " 'most',\n",
       " 'multidisciplinary',\n",
       " 'not',\n",
       " 'of',\n",
       " 'on',\n",
       " 'perform',\n",
       " 'practices',\n",
       " 'principles',\n",
       " 'process',\n",
       " 'reason,',\n",
       " 'rely',\n",
       " 'science',\n",
       " 'similar',\n",
       " 'statistics,',\n",
       " 'store',\n",
       " 'storing',\n",
       " 'study',\n",
       " 'such',\n",
       " 'system,',\n",
       " 'systems',\n",
       " 'tasks',\n",
       " 'that',\n",
       " 'the',\n",
       " 'to',\n",
       " 'two',\n",
       " 'use',\n",
       " 'uses',\n",
       " 'variables,',\n",
       " 'ways',\n",
       " 'which'}"
      ]
     },
     "execution_count": 13,
     "metadata": {},
     "output_type": "execute_result"
    }
   ],
   "source": [
    "lower_words"
   ]
  },
  {
   "cell_type": "code",
   "execution_count": 14,
   "metadata": {},
   "outputs": [],
   "source": [
    "n_dataset = len(dataset)"
   ]
  },
  {
   "cell_type": "code",
   "execution_count": 15,
   "metadata": {},
   "outputs": [],
   "source": [
    "word_counts = {}\n",
    "for i, doc in enumerate(dataset):\n",
    "    doc_word_counts = {}\n",
    "    num_words = 0\n",
    "    for word in doc.split(\" \"):\n",
    "        if len(word) >= 2:\n",
    "            num_words+=1\n",
    "            if word in doc_word_counts:\n",
    "                doc_word_counts[word] += 1\n",
    "            else:\n",
    "                doc_word_counts[word] = 1\n",
    "    word_counts[i] = doc_word_counts"
   ]
  },
  {
   "cell_type": "code",
   "execution_count": 16,
   "metadata": {},
   "outputs": [
    {
     "data": {
      "text/plain": [
       "34"
      ]
     },
     "execution_count": 16,
     "metadata": {},
     "output_type": "execute_result"
    }
   ],
   "source": [
    "len(word_counts[0])"
   ]
  },
  {
   "cell_type": "code",
   "execution_count": 17,
   "metadata": {},
   "outputs": [
    {
     "data": {
      "text/plain": [
       "{0: {'Data': 1,\n",
       "  'science': 1,\n",
       "  'a,': 1,\n",
       "  'is': 2,\n",
       "  'the': 2,\n",
       "  'study': 1,\n",
       "  'of': 3,\n",
       "  'data': 1,\n",
       "  'to': 2,\n",
       "  'extract': 1,\n",
       "  'meaningful': 1,\n",
       "  'insights': 1,\n",
       "  'for': 1,\n",
       "  'business.': 1,\n",
       "  'It': 1,\n",
       "  'multidisciplinary': 1,\n",
       "  'approach': 1,\n",
       "  'that': 1,\n",
       "  'combines': 1,\n",
       "  'principles': 1,\n",
       "  'and': 2,\n",
       "  'practices': 1,\n",
       "  'from': 1,\n",
       "  'fields': 1,\n",
       "  'mathematics,': 1,\n",
       "  'statistics,': 1,\n",
       "  'artificial': 1,\n",
       "  'intelligence,': 1,\n",
       "  'computer': 1,\n",
       "  'engineering': 1,\n",
       "  'analyze': 1,\n",
       "  'large': 1,\n",
       "  'amounts': 1,\n",
       "  'data.': 1},\n",
       " 1: {'Artificial': 1,\n",
       "  'a,': 1,\n",
       "  'intelligence': 1,\n",
       "  '(AI)': 1,\n",
       "  'is': 1,\n",
       "  'field': 1,\n",
       "  'of': 1,\n",
       "  'science': 1,\n",
       "  'that': 4,\n",
       "  'involves': 1,\n",
       "  'building': 1,\n",
       "  'machines': 1,\n",
       "  'and': 4,\n",
       "  'computers': 1,\n",
       "  'can': 2,\n",
       "  'learn,': 1,\n",
       "  'reason,': 1,\n",
       "  'act': 1,\n",
       "  'in': 1,\n",
       "  'ways': 1,\n",
       "  'are': 1,\n",
       "  'similar': 1,\n",
       "  'to': 3,\n",
       "  'human': 1,\n",
       "  'intelligence.': 1,\n",
       "  'AI': 1,\n",
       "  'systems': 1,\n",
       "  'use': 1,\n",
       "  'data': 1,\n",
       "  'learn': 1,\n",
       "  'improve,': 1,\n",
       "  'perform': 1,\n",
       "  'tasks': 1,\n",
       "  'humans': 1,\n",
       "  'might': 1,\n",
       "  'not': 1,\n",
       "  'be': 1,\n",
       "  'able': 1,\n",
       "  'do.': 1},\n",
       " 2: {'computer': 1,\n",
       "  'is': 1,\n",
       "  'a,': 1,\n",
       "  'machine': 1,\n",
       "  'that': 1,\n",
       "  'can': 1,\n",
       "  'store': 1,\n",
       "  'and': 3,\n",
       "  'process': 1,\n",
       "  'information.': 2,\n",
       "  'Most': 1,\n",
       "  'computers': 1,\n",
       "  'rely': 1,\n",
       "  'on': 1,\n",
       "  'binary': 1,\n",
       "  'system,': 1,\n",
       "  'which': 1,\n",
       "  'uses': 1,\n",
       "  'two': 1,\n",
       "  'variables,': 1,\n",
       "  '1,': 1,\n",
       "  'to': 1,\n",
       "  'complete': 1,\n",
       "  'tasks': 1,\n",
       "  'such': 1,\n",
       "  'as': 1,\n",
       "  'storing': 1,\n",
       "  'data,': 1,\n",
       "  'calculating': 1,\n",
       "  'algorithms,': 1,\n",
       "  'displaying': 1}}"
      ]
     },
     "execution_count": 17,
     "metadata": {},
     "output_type": "execute_result"
    }
   ],
   "source": [
    "word_counts"
   ]
  },
  {
   "cell_type": "code",
   "execution_count": 18,
   "metadata": {},
   "outputs": [
    {
     "name": "stdout",
     "output_type": "stream",
     "text": [
      "{0: {'Data': 0.025, 'science': 0.025, 'a,': 0.025, 'is': 0.05, 'the': 0.05, 'study': 0.025, 'of': 0.075, 'data': 0.025, 'to': 0.05, 'extract': 0.025, 'meaningful': 0.025, 'insights': 0.025, 'for': 0.025, 'business.': 0.025, 'It': 0.025, 'multidisciplinary': 0.025, 'approach': 0.025, 'that': 0.025, 'combines': 0.025, 'principles': 0.025, 'and': 0.05, 'practices': 0.025, 'from': 0.025, 'fields': 0.025, 'mathematics,': 0.025, 'statistics,': 0.025, 'artificial': 0.025, 'intelligence,': 0.025, 'computer': 0.025, 'engineering': 0.025, 'analyze': 0.025, 'large': 0.025, 'amounts': 0.025, 'data.': 0.025}, 1: {'Artificial': 0.020833333333333332, 'a,': 0.020833333333333332, 'intelligence': 0.020833333333333332, '(AI)': 0.020833333333333332, 'is': 0.020833333333333332, 'field': 0.020833333333333332, 'of': 0.020833333333333332, 'science': 0.020833333333333332, 'that': 0.08333333333333333, 'involves': 0.020833333333333332, 'building': 0.020833333333333332, 'machines': 0.020833333333333332, 'and': 0.08333333333333333, 'computers': 0.020833333333333332, 'can': 0.041666666666666664, 'learn,': 0.020833333333333332, 'reason,': 0.020833333333333332, 'act': 0.020833333333333332, 'in': 0.020833333333333332, 'ways': 0.020833333333333332, 'are': 0.020833333333333332, 'similar': 0.020833333333333332, 'to': 0.0625, 'human': 0.020833333333333332, 'intelligence.': 0.020833333333333332, 'AI': 0.020833333333333332, 'systems': 0.020833333333333332, 'use': 0.020833333333333332, 'data': 0.020833333333333332, 'learn': 0.020833333333333332, 'improve,': 0.020833333333333332, 'perform': 0.020833333333333332, 'tasks': 0.020833333333333332, 'humans': 0.020833333333333332, 'might': 0.020833333333333332, 'not': 0.020833333333333332, 'be': 0.020833333333333332, 'able': 0.020833333333333332, 'do.': 0.020833333333333332}, 2: {'computer': 0.029411764705882353, 'is': 0.029411764705882353, 'a,': 0.029411764705882353, 'machine': 0.029411764705882353, 'that': 0.029411764705882353, 'can': 0.029411764705882353, 'store': 0.029411764705882353, 'and': 0.08823529411764706, 'process': 0.029411764705882353, 'information.': 0.058823529411764705, 'Most': 0.029411764705882353, 'computers': 0.029411764705882353, 'rely': 0.029411764705882353, 'on': 0.029411764705882353, 'binary': 0.029411764705882353, 'system,': 0.029411764705882353, 'which': 0.029411764705882353, 'uses': 0.029411764705882353, 'two': 0.029411764705882353, 'variables,': 0.029411764705882353, '1,': 0.029411764705882353, 'to': 0.029411764705882353, 'complete': 0.029411764705882353, 'tasks': 0.029411764705882353, 'such': 0.029411764705882353, 'as': 0.029411764705882353, 'storing': 0.029411764705882353, 'data,': 0.029411764705882353, 'calculating': 0.029411764705882353, 'algorithms,': 0.029411764705882353, 'displaying': 0.029411764705882353}}\n"
     ]
    }
   ],
   "source": [
    "tf_dict = {}\n",
    "\n",
    "for doc_id, counts in word_counts.items():\n",
    "    total_words = sum(counts.values()) \n",
    "    tf_dict[doc_id] = {word: count / total_words for word, count in counts.items()} \n",
    "print(tf_dict)"
   ]
  },
  {
   "cell_type": "code",
   "execution_count": 19,
   "metadata": {},
   "outputs": [],
   "source": [
    "df_dict = {}\n",
    "for word_count in word_counts.values():\n",
    "    for word in word_count.keys():\n",
    "        df_dict[word] = df_dict.get(word, 0) + 1"
   ]
  },
  {
   "cell_type": "code",
   "execution_count": 20,
   "metadata": {},
   "outputs": [
    {
     "data": {
      "text/plain": [
       "{'Data': 1,\n",
       " 'science': 2,\n",
       " 'a,': 3,\n",
       " 'is': 3,\n",
       " 'the': 1,\n",
       " 'study': 1,\n",
       " 'of': 2,\n",
       " 'data': 2,\n",
       " 'to': 3,\n",
       " 'extract': 1,\n",
       " 'meaningful': 1,\n",
       " 'insights': 1,\n",
       " 'for': 1,\n",
       " 'business.': 1,\n",
       " 'It': 1,\n",
       " 'multidisciplinary': 1,\n",
       " 'approach': 1,\n",
       " 'that': 3,\n",
       " 'combines': 1,\n",
       " 'principles': 1,\n",
       " 'and': 3,\n",
       " 'practices': 1,\n",
       " 'from': 1,\n",
       " 'fields': 1,\n",
       " 'mathematics,': 1,\n",
       " 'statistics,': 1,\n",
       " 'artificial': 1,\n",
       " 'intelligence,': 1,\n",
       " 'computer': 2,\n",
       " 'engineering': 1,\n",
       " 'analyze': 1,\n",
       " 'large': 1,\n",
       " 'amounts': 1,\n",
       " 'data.': 1,\n",
       " 'Artificial': 1,\n",
       " 'intelligence': 1,\n",
       " '(AI)': 1,\n",
       " 'field': 1,\n",
       " 'involves': 1,\n",
       " 'building': 1,\n",
       " 'machines': 1,\n",
       " 'computers': 2,\n",
       " 'can': 2,\n",
       " 'learn,': 1,\n",
       " 'reason,': 1,\n",
       " 'act': 1,\n",
       " 'in': 1,\n",
       " 'ways': 1,\n",
       " 'are': 1,\n",
       " 'similar': 1,\n",
       " 'human': 1,\n",
       " 'intelligence.': 1,\n",
       " 'AI': 1,\n",
       " 'systems': 1,\n",
       " 'use': 1,\n",
       " 'learn': 1,\n",
       " 'improve,': 1,\n",
       " 'perform': 1,\n",
       " 'tasks': 2,\n",
       " 'humans': 1,\n",
       " 'might': 1,\n",
       " 'not': 1,\n",
       " 'be': 1,\n",
       " 'able': 1,\n",
       " 'do.': 1,\n",
       " 'machine': 1,\n",
       " 'store': 1,\n",
       " 'process': 1,\n",
       " 'information.': 1,\n",
       " 'Most': 1,\n",
       " 'rely': 1,\n",
       " 'on': 1,\n",
       " 'binary': 1,\n",
       " 'system,': 1,\n",
       " 'which': 1,\n",
       " 'uses': 1,\n",
       " 'two': 1,\n",
       " 'variables,': 1,\n",
       " '1,': 1,\n",
       " 'complete': 1,\n",
       " 'such': 1,\n",
       " 'as': 1,\n",
       " 'storing': 1,\n",
       " 'data,': 1,\n",
       " 'calculating': 1,\n",
       " 'algorithms,': 1,\n",
       " 'displaying': 1}"
      ]
     },
     "execution_count": 20,
     "metadata": {},
     "output_type": "execute_result"
    }
   ],
   "source": [
    "df_dict"
   ]
  },
  {
   "cell_type": "code",
   "execution_count": 21,
   "metadata": {},
   "outputs": [],
   "source": [
    "idf = {word: np.log(n_dataset / (1 + count)) for word, count in df_dict.items()}"
   ]
  },
  {
   "cell_type": "code",
   "execution_count": 22,
   "metadata": {},
   "outputs": [
    {
     "data": {
      "text/plain": [
       "{'Data': 0.4054651081081644,\n",
       " 'science': 0.0,\n",
       " 'a,': -0.2876820724517809,\n",
       " 'is': -0.2876820724517809,\n",
       " 'the': 0.4054651081081644,\n",
       " 'study': 0.4054651081081644,\n",
       " 'of': 0.0,\n",
       " 'data': 0.0,\n",
       " 'to': -0.2876820724517809,\n",
       " 'extract': 0.4054651081081644,\n",
       " 'meaningful': 0.4054651081081644,\n",
       " 'insights': 0.4054651081081644,\n",
       " 'for': 0.4054651081081644,\n",
       " 'business.': 0.4054651081081644,\n",
       " 'It': 0.4054651081081644,\n",
       " 'multidisciplinary': 0.4054651081081644,\n",
       " 'approach': 0.4054651081081644,\n",
       " 'that': -0.2876820724517809,\n",
       " 'combines': 0.4054651081081644,\n",
       " 'principles': 0.4054651081081644,\n",
       " 'and': -0.2876820724517809,\n",
       " 'practices': 0.4054651081081644,\n",
       " 'from': 0.4054651081081644,\n",
       " 'fields': 0.4054651081081644,\n",
       " 'mathematics,': 0.4054651081081644,\n",
       " 'statistics,': 0.4054651081081644,\n",
       " 'artificial': 0.4054651081081644,\n",
       " 'intelligence,': 0.4054651081081644,\n",
       " 'computer': 0.0,\n",
       " 'engineering': 0.4054651081081644,\n",
       " 'analyze': 0.4054651081081644,\n",
       " 'large': 0.4054651081081644,\n",
       " 'amounts': 0.4054651081081644,\n",
       " 'data.': 0.4054651081081644,\n",
       " 'Artificial': 0.4054651081081644,\n",
       " 'intelligence': 0.4054651081081644,\n",
       " '(AI)': 0.4054651081081644,\n",
       " 'field': 0.4054651081081644,\n",
       " 'involves': 0.4054651081081644,\n",
       " 'building': 0.4054651081081644,\n",
       " 'machines': 0.4054651081081644,\n",
       " 'computers': 0.0,\n",
       " 'can': 0.0,\n",
       " 'learn,': 0.4054651081081644,\n",
       " 'reason,': 0.4054651081081644,\n",
       " 'act': 0.4054651081081644,\n",
       " 'in': 0.4054651081081644,\n",
       " 'ways': 0.4054651081081644,\n",
       " 'are': 0.4054651081081644,\n",
       " 'similar': 0.4054651081081644,\n",
       " 'human': 0.4054651081081644,\n",
       " 'intelligence.': 0.4054651081081644,\n",
       " 'AI': 0.4054651081081644,\n",
       " 'systems': 0.4054651081081644,\n",
       " 'use': 0.4054651081081644,\n",
       " 'learn': 0.4054651081081644,\n",
       " 'improve,': 0.4054651081081644,\n",
       " 'perform': 0.4054651081081644,\n",
       " 'tasks': 0.0,\n",
       " 'humans': 0.4054651081081644,\n",
       " 'might': 0.4054651081081644,\n",
       " 'not': 0.4054651081081644,\n",
       " 'be': 0.4054651081081644,\n",
       " 'able': 0.4054651081081644,\n",
       " 'do.': 0.4054651081081644,\n",
       " 'machine': 0.4054651081081644,\n",
       " 'store': 0.4054651081081644,\n",
       " 'process': 0.4054651081081644,\n",
       " 'information.': 0.4054651081081644,\n",
       " 'Most': 0.4054651081081644,\n",
       " 'rely': 0.4054651081081644,\n",
       " 'on': 0.4054651081081644,\n",
       " 'binary': 0.4054651081081644,\n",
       " 'system,': 0.4054651081081644,\n",
       " 'which': 0.4054651081081644,\n",
       " 'uses': 0.4054651081081644,\n",
       " 'two': 0.4054651081081644,\n",
       " 'variables,': 0.4054651081081644,\n",
       " '1,': 0.4054651081081644,\n",
       " 'complete': 0.4054651081081644,\n",
       " 'such': 0.4054651081081644,\n",
       " 'as': 0.4054651081081644,\n",
       " 'storing': 0.4054651081081644,\n",
       " 'data,': 0.4054651081081644,\n",
       " 'calculating': 0.4054651081081644,\n",
       " 'algorithms,': 0.4054651081081644,\n",
       " 'displaying': 0.4054651081081644}"
      ]
     },
     "execution_count": 22,
     "metadata": {},
     "output_type": "execute_result"
    }
   ],
   "source": [
    "idf"
   ]
  },
  {
   "cell_type": "code",
   "execution_count": 23,
   "metadata": {},
   "outputs": [
    {
     "name": "stdout",
     "output_type": "stream",
     "text": [
      "{0: {'Data': 0.01013662770270411, 'science': 0.0, 'a,': -0.0071920518112945225, 'is': -0.014384103622589045, 'the': 0.02027325540540822, 'study': 0.01013662770270411, 'of': 0.0, 'data': 0.0, 'to': -0.014384103622589045, 'extract': 0.01013662770270411, 'meaningful': 0.01013662770270411, 'insights': 0.01013662770270411, 'for': 0.01013662770270411, 'business.': 0.01013662770270411, 'It': 0.01013662770270411, 'multidisciplinary': 0.01013662770270411, 'approach': 0.01013662770270411, 'that': -0.0071920518112945225, 'combines': 0.01013662770270411, 'principles': 0.01013662770270411, 'and': -0.014384103622589045, 'practices': 0.01013662770270411, 'from': 0.01013662770270411, 'fields': 0.01013662770270411, 'mathematics,': 0.01013662770270411, 'statistics,': 0.01013662770270411, 'artificial': 0.01013662770270411, 'intelligence,': 0.01013662770270411, 'computer': 0.0, 'engineering': 0.01013662770270411, 'analyze': 0.01013662770270411, 'large': 0.01013662770270411, 'amounts': 0.01013662770270411, 'data.': 0.01013662770270411}, 1: {'Artificial': 0.008447189752253424, 'a,': -0.005993376509412102, 'intelligence': 0.008447189752253424, '(AI)': 0.008447189752253424, 'is': -0.005993376509412102, 'field': 0.008447189752253424, 'of': 0.0, 'science': 0.0, 'that': -0.023973506037648407, 'involves': 0.008447189752253424, 'building': 0.008447189752253424, 'machines': 0.008447189752253424, 'and': -0.023973506037648407, 'computers': 0.0, 'can': 0.0, 'learn,': 0.008447189752253424, 'reason,': 0.008447189752253424, 'act': 0.008447189752253424, 'in': 0.008447189752253424, 'ways': 0.008447189752253424, 'are': 0.008447189752253424, 'similar': 0.008447189752253424, 'to': -0.017980129528236306, 'human': 0.008447189752253424, 'intelligence.': 0.008447189752253424, 'AI': 0.008447189752253424, 'systems': 0.008447189752253424, 'use': 0.008447189752253424, 'data': 0.0, 'learn': 0.008447189752253424, 'improve,': 0.008447189752253424, 'perform': 0.008447189752253424, 'tasks': 0.0, 'humans': 0.008447189752253424, 'might': 0.008447189752253424, 'not': 0.008447189752253424, 'be': 0.008447189752253424, 'able': 0.008447189752253424, 'do.': 0.008447189752253424}, 2: {'computer': 0.0, 'is': -0.008461237425052379, 'a,': -0.008461237425052379, 'machine': 0.011925444356122483, 'that': -0.008461237425052379, 'can': 0.0, 'store': 0.011925444356122483, 'and': -0.02538371227515714, 'process': 0.011925444356122483, 'information.': 0.023850888712244965, 'Most': 0.011925444356122483, 'computers': 0.0, 'rely': 0.011925444356122483, 'on': 0.011925444356122483, 'binary': 0.011925444356122483, 'system,': 0.011925444356122483, 'which': 0.011925444356122483, 'uses': 0.011925444356122483, 'two': 0.011925444356122483, 'variables,': 0.011925444356122483, '1,': 0.011925444356122483, 'to': -0.008461237425052379, 'complete': 0.011925444356122483, 'tasks': 0.0, 'such': 0.011925444356122483, 'as': 0.011925444356122483, 'storing': 0.011925444356122483, 'data,': 0.011925444356122483, 'calculating': 0.011925444356122483, 'algorithms,': 0.011925444356122483, 'displaying': 0.011925444356122483}}\n"
     ]
    }
   ],
   "source": [
    "tfidf_dict = {}\n",
    "\n",
    "for doc_id, word_tf in tf_dict.items():\n",
    "    tfidf_dict[doc_id] = {}\n",
    "    for word, tf_value in word_tf.items():\n",
    "        idf_value = idf.get(word, 0)\n",
    "        tfidf_dict_value = tf_value * idf_value\n",
    "        tfidf_dict[doc_id][word] = tfidf_dict_value\n",
    "\n",
    "print(tfidf_dict)"
   ]
  },
  {
   "cell_type": "code",
   "execution_count": 25,
   "metadata": {},
   "outputs": [],
   "source": [
    "df_tfidf = pd.DataFrame.from_dict(tfidf_dict, orient='index').fillna(0)"
   ]
  },
  {
   "cell_type": "code",
   "execution_count": 26,
   "metadata": {},
   "outputs": [
    {
     "data": {
      "text/html": [
       "<div>\n",
       "<style scoped>\n",
       "    .dataframe tbody tr th:only-of-type {\n",
       "        vertical-align: middle;\n",
       "    }\n",
       "\n",
       "    .dataframe tbody tr th {\n",
       "        vertical-align: top;\n",
       "    }\n",
       "\n",
       "    .dataframe thead th {\n",
       "        text-align: right;\n",
       "    }\n",
       "</style>\n",
       "<table border=\"1\" class=\"dataframe\">\n",
       "  <thead>\n",
       "    <tr style=\"text-align: right;\">\n",
       "      <th></th>\n",
       "      <th>Data</th>\n",
       "      <th>science</th>\n",
       "      <th>a,</th>\n",
       "      <th>is</th>\n",
       "      <th>the</th>\n",
       "      <th>study</th>\n",
       "      <th>of</th>\n",
       "      <th>data</th>\n",
       "      <th>to</th>\n",
       "      <th>extract</th>\n",
       "      <th>...</th>\n",
       "      <th>variables,</th>\n",
       "      <th>1,</th>\n",
       "      <th>complete</th>\n",
       "      <th>such</th>\n",
       "      <th>as</th>\n",
       "      <th>storing</th>\n",
       "      <th>data,</th>\n",
       "      <th>calculating</th>\n",
       "      <th>algorithms,</th>\n",
       "      <th>displaying</th>\n",
       "    </tr>\n",
       "  </thead>\n",
       "  <tbody>\n",
       "    <tr>\n",
       "      <th>0</th>\n",
       "      <td>0.010137</td>\n",
       "      <td>0.0</td>\n",
       "      <td>-0.007192</td>\n",
       "      <td>-0.014384</td>\n",
       "      <td>0.020273</td>\n",
       "      <td>0.010137</td>\n",
       "      <td>0.0</td>\n",
       "      <td>0.0</td>\n",
       "      <td>-0.014384</td>\n",
       "      <td>0.010137</td>\n",
       "      <td>...</td>\n",
       "      <td>0.000000</td>\n",
       "      <td>0.000000</td>\n",
       "      <td>0.000000</td>\n",
       "      <td>0.000000</td>\n",
       "      <td>0.000000</td>\n",
       "      <td>0.000000</td>\n",
       "      <td>0.000000</td>\n",
       "      <td>0.000000</td>\n",
       "      <td>0.000000</td>\n",
       "      <td>0.000000</td>\n",
       "    </tr>\n",
       "    <tr>\n",
       "      <th>1</th>\n",
       "      <td>0.000000</td>\n",
       "      <td>0.0</td>\n",
       "      <td>-0.005993</td>\n",
       "      <td>-0.005993</td>\n",
       "      <td>0.000000</td>\n",
       "      <td>0.000000</td>\n",
       "      <td>0.0</td>\n",
       "      <td>0.0</td>\n",
       "      <td>-0.017980</td>\n",
       "      <td>0.000000</td>\n",
       "      <td>...</td>\n",
       "      <td>0.000000</td>\n",
       "      <td>0.000000</td>\n",
       "      <td>0.000000</td>\n",
       "      <td>0.000000</td>\n",
       "      <td>0.000000</td>\n",
       "      <td>0.000000</td>\n",
       "      <td>0.000000</td>\n",
       "      <td>0.000000</td>\n",
       "      <td>0.000000</td>\n",
       "      <td>0.000000</td>\n",
       "    </tr>\n",
       "    <tr>\n",
       "      <th>2</th>\n",
       "      <td>0.000000</td>\n",
       "      <td>0.0</td>\n",
       "      <td>-0.008461</td>\n",
       "      <td>-0.008461</td>\n",
       "      <td>0.000000</td>\n",
       "      <td>0.000000</td>\n",
       "      <td>0.0</td>\n",
       "      <td>0.0</td>\n",
       "      <td>-0.008461</td>\n",
       "      <td>0.000000</td>\n",
       "      <td>...</td>\n",
       "      <td>0.011925</td>\n",
       "      <td>0.011925</td>\n",
       "      <td>0.011925</td>\n",
       "      <td>0.011925</td>\n",
       "      <td>0.011925</td>\n",
       "      <td>0.011925</td>\n",
       "      <td>0.011925</td>\n",
       "      <td>0.011925</td>\n",
       "      <td>0.011925</td>\n",
       "      <td>0.011925</td>\n",
       "    </tr>\n",
       "  </tbody>\n",
       "</table>\n",
       "<p>3 rows × 87 columns</p>\n",
       "</div>"
      ],
      "text/plain": [
       "       Data  science        a,        is       the     study   of  data  \\\n",
       "0  0.010137      0.0 -0.007192 -0.014384  0.020273  0.010137  0.0   0.0   \n",
       "1  0.000000      0.0 -0.005993 -0.005993  0.000000  0.000000  0.0   0.0   \n",
       "2  0.000000      0.0 -0.008461 -0.008461  0.000000  0.000000  0.0   0.0   \n",
       "\n",
       "         to   extract  ...  variables,        1,  complete      such  \\\n",
       "0 -0.014384  0.010137  ...    0.000000  0.000000  0.000000  0.000000   \n",
       "1 -0.017980  0.000000  ...    0.000000  0.000000  0.000000  0.000000   \n",
       "2 -0.008461  0.000000  ...    0.011925  0.011925  0.011925  0.011925   \n",
       "\n",
       "         as   storing     data,  calculating  algorithms,  displaying  \n",
       "0  0.000000  0.000000  0.000000     0.000000     0.000000    0.000000  \n",
       "1  0.000000  0.000000  0.000000     0.000000     0.000000    0.000000  \n",
       "2  0.011925  0.011925  0.011925     0.011925     0.011925    0.011925  \n",
       "\n",
       "[3 rows x 87 columns]"
      ]
     },
     "execution_count": 26,
     "metadata": {},
     "output_type": "execute_result"
    }
   ],
   "source": [
    "df_tfidf"
   ]
  },
  {
   "cell_type": "code",
   "execution_count": 27,
   "metadata": {},
   "outputs": [
    {
     "data": {
      "text/html": [
       "<div>\n",
       "<style scoped>\n",
       "    .dataframe tbody tr th:only-of-type {\n",
       "        vertical-align: middle;\n",
       "    }\n",
       "\n",
       "    .dataframe tbody tr th {\n",
       "        vertical-align: top;\n",
       "    }\n",
       "\n",
       "    .dataframe thead th {\n",
       "        text-align: right;\n",
       "    }\n",
       "</style>\n",
       "<table border=\"1\" class=\"dataframe\">\n",
       "  <thead>\n",
       "    <tr style=\"text-align: right;\">\n",
       "      <th></th>\n",
       "      <th>(AI)</th>\n",
       "      <th>Artificial</th>\n",
       "      <th>Data</th>\n",
       "      <th>information.</th>\n",
       "      <th>intelligence</th>\n",
       "      <th>machine</th>\n",
       "      <th>store</th>\n",
       "      <th>study</th>\n",
       "      <th>the</th>\n",
       "    </tr>\n",
       "  </thead>\n",
       "  <tbody>\n",
       "    <tr>\n",
       "      <th>0</th>\n",
       "      <td>NaN</td>\n",
       "      <td>NaN</td>\n",
       "      <td>0.010137</td>\n",
       "      <td>NaN</td>\n",
       "      <td>NaN</td>\n",
       "      <td>NaN</td>\n",
       "      <td>NaN</td>\n",
       "      <td>0.010137</td>\n",
       "      <td>0.020273</td>\n",
       "    </tr>\n",
       "    <tr>\n",
       "      <th>1</th>\n",
       "      <td>0.008447</td>\n",
       "      <td>0.008447</td>\n",
       "      <td>NaN</td>\n",
       "      <td>NaN</td>\n",
       "      <td>0.008447</td>\n",
       "      <td>NaN</td>\n",
       "      <td>NaN</td>\n",
       "      <td>NaN</td>\n",
       "      <td>NaN</td>\n",
       "    </tr>\n",
       "    <tr>\n",
       "      <th>2</th>\n",
       "      <td>NaN</td>\n",
       "      <td>NaN</td>\n",
       "      <td>NaN</td>\n",
       "      <td>0.023851</td>\n",
       "      <td>NaN</td>\n",
       "      <td>0.011925</td>\n",
       "      <td>0.011925</td>\n",
       "      <td>NaN</td>\n",
       "      <td>NaN</td>\n",
       "    </tr>\n",
       "  </tbody>\n",
       "</table>\n",
       "</div>"
      ],
      "text/plain": [
       "       (AI)  Artificial      Data  information.  intelligence   machine  \\\n",
       "0       NaN         NaN  0.010137           NaN           NaN       NaN   \n",
       "1  0.008447    0.008447       NaN           NaN      0.008447       NaN   \n",
       "2       NaN         NaN       NaN      0.023851           NaN  0.011925   \n",
       "\n",
       "      store     study       the  \n",
       "0       NaN  0.010137  0.020273  \n",
       "1       NaN       NaN       NaN  \n",
       "2  0.011925       NaN       NaN  "
      ]
     },
     "execution_count": 27,
     "metadata": {},
     "output_type": "execute_result"
    }
   ],
   "source": [
    "top_tfidf = df_tfidf.apply(lambda x: x.nlargest(3), axis=1)\n",
    "top_tfidf"
   ]
  }
 ],
 "metadata": {
  "kernelspec": {
   "display_name": "py310",
   "language": "python",
   "name": "python3"
  },
  "language_info": {
   "codemirror_mode": {
    "name": "ipython",
    "version": 3
   },
   "file_extension": ".py",
   "mimetype": "text/x-python",
   "name": "python",
   "nbconvert_exporter": "python",
   "pygments_lexer": "ipython3",
   "version": "3.10.13"
  }
 },
 "nbformat": 4,
 "nbformat_minor": 2
}
